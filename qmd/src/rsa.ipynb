{
  "nbformat": 4,
  "nbformat_minor": 0,
  "metadata": {
    "colab": {
      "provenance": [],
      "include_colab_link": true
    },
    "kernelspec": {
      "name": "python3",
      "display_name": "Python 3"
    },
    "language_info": {
      "name": "python"
    }
  },
  "cells": [
    {
      "cell_type": "markdown",
      "metadata": {
        "id": "view-in-github",
        "colab_type": "text"
      },
      "source": [
        "<a href=\"https://colab.research.google.com/github/cd-public/cd-public.github.io/blob/main/courses/c89s25/qmd/src/rsa.ipynb\" target=\"_parent\"><img src=\"https://colab.research.google.com/assets/colab-badge.svg\" alt=\"Open In Colab\"/></a>"
      ]
    },
    {
      "cell_type": "markdown",
      "source": [
        "\"Public Key Encryption\""
      ],
      "metadata": {
        "id": "hR_h-G1izgiH"
      }
    },
    {
      "cell_type": "markdown",
      "source": [
        "Let's generate some primes!"
      ],
      "metadata": {
        "id": "dRwJyv5F6lb6"
      }
    },
    {
      "cell_type": "code",
      "execution_count": null,
      "metadata": {
        "id": "OFfha9cSzeSj"
      },
      "outputs": [],
      "source": [
        "# return true if n has no factors other than itself and 1\n",
        "def is_prime(n):\n",
        "  i = 2\n",
        "  while i * i <= n:\n",
        "    if n % i == 0:\n",
        "      return False\n",
        "    i = i + 1\n",
        "  return True"
      ]
    },
    {
      "cell_type": "code",
      "source": [
        "from random import randint"
      ],
      "metadata": {
        "id": "IhiimVO54HWj"
      },
      "execution_count": null,
      "outputs": []
    },
    {
      "cell_type": "code",
      "source": [
        "# prime number generation\n",
        "def make_prime(len=3):\n",
        "  cand = randint(10 ** len, 10 ** (len + 1))\n",
        "  while True:\n",
        "    if is_prime(cand):\n",
        "      return cand\n",
        "    cand = cand + 1"
      ],
      "metadata": {
        "id": "Zxns_k6v1uDT"
      },
      "execution_count": null,
      "outputs": []
    },
    {
      "cell_type": "markdown",
      "source": [
        "Find \"lambda\" where lambda(pq) = lcm(p - 1, q - 1)\n"
      ],
      "metadata": {
        "id": "gEA9hGUO6jkp"
      }
    },
    {
      "cell_type": "code",
      "source": [
        "# find least common multiple\n",
        "def lcm(x,y):\n",
        "  def gcd(x,y):\n",
        "    while y != 0:\n",
        "      (x, y) = (y, x % y)\n",
        "    return x\n",
        "  return (x*y)//gcd(x,y)"
      ],
      "metadata": {
        "id": "c0MamfuJ7Rip"
      },
      "execution_count": null,
      "outputs": []
    },
    {
      "cell_type": "markdown",
      "source": [
        "Given some lambda(pq), find e s.t. coprime(l,e)"
      ],
      "metadata": {
        "id": "2mT_tuYf_31e"
      }
    },
    {
      "cell_type": "code",
      "source": [
        "# find the first prime that doesn't divide x\n",
        "def get_coprime(x):\n",
        "  cand = 2\n",
        "  while True:\n",
        "    if is_prime(cand):\n",
        "      if x % cand:\n",
        "        return cand\n",
        "    cand = cand + 1"
      ],
      "metadata": {
        "id": "HR8tN_jWADeV"
      },
      "execution_count": null,
      "outputs": []
    },
    {
      "cell_type": "markdown",
      "source": [
        "Find \"private key exponent\" d s.t. d * e = 1 mod lambda"
      ],
      "metadata": {
        "id": "g6QSI2iR9VSm"
      }
    },
    {
      "cell_type": "code",
      "source": [
        "def find_pke(e, l):\n",
        "  # n * lambda + 1 s.t. this value % e == 0\n",
        "  cand = l + 1\n",
        "  while True:\n",
        "    if cand % e == 0:\n",
        "      return cand // e\n",
        "    cand = cand + l"
      ],
      "metadata": {
        "id": "98Vmyf5X9T_X"
      },
      "execution_count": null,
      "outputs": []
    },
    {
      "cell_type": "code",
      "source": [
        "# its time make keys\n",
        "def make_keys(len=10):\n",
        "  p, q = make_prime(len), make_prime(len)\n",
        "  n = p*q\n",
        "  l = lcm(p - 1, q - 1)\n",
        "  e = get_coprime(l) # for math reasons\n",
        "  d = find_pke(e, l)\n",
        "  publ_key = [n, e]\n",
        "  priv_key = [n, e, d]\n",
        "  return publ_key, priv_key"
      ],
      "metadata": {
        "id": "K-V4SYQhCaCn"
      },
      "execution_count": null,
      "outputs": []
    },
    {
      "cell_type": "code",
      "source": [
        "secret = \"blimp\""
      ],
      "metadata": {
        "id": "f6azzFB4ELih"
      },
      "execution_count": null,
      "outputs": []
    },
    {
      "cell_type": "code",
      "source": [
        "def stoi(s):\n",
        "  i = 0\n",
        "  for c in s:\n",
        "    i = i* 0x100 + ord(c)\n",
        "  return i"
      ],
      "metadata": {
        "id": "A19a-GaqEX-2"
      },
      "execution_count": null,
      "outputs": []
    },
    {
      "cell_type": "code",
      "source": [
        "stoi(secret)"
      ],
      "metadata": {
        "colab": {
          "base_uri": "https://localhost:8080/"
        },
        "id": "pWJ2JSIlExmI",
        "outputId": "9aa8aa0a-6c3d-496d-c71c-9bcb344c45df"
      },
      "execution_count": null,
      "outputs": [
        {
          "output_type": "execute_result",
          "data": {
            "text/plain": [
              "422725643632"
            ]
          },
          "metadata": {},
          "execution_count": 14
        }
      ]
    },
    {
      "cell_type": "code",
      "source": [
        "def itos(i):\n",
        "  s = \"\"\n",
        "  while i > 0:\n",
        "    s = chr(i % 0x100) + s\n",
        "    i = i // 0x100\n",
        "  return s"
      ],
      "metadata": {
        "id": "EERLUgGNE1Um"
      },
      "execution_count": null,
      "outputs": []
    },
    {
      "cell_type": "code",
      "source": [
        "itos(422725643632)"
      ],
      "metadata": {
        "colab": {
          "base_uri": "https://localhost:8080/",
          "height": 35
        },
        "id": "vozRW_hqFR-3",
        "outputId": "ea705f20-61c2-4db2-c262-5b7c785549f8"
      },
      "execution_count": null,
      "outputs": [
        {
          "output_type": "execute_result",
          "data": {
            "text/plain": [
              "'blimp'"
            ],
            "application/vnd.google.colaboratory.intrinsic+json": {
              "type": "string"
            }
          },
          "metadata": {},
          "execution_count": 16
        }
      ]
    },
    {
      "cell_type": "code",
      "source": [
        "def encrypt(m, key):\n",
        "  [n,e] = key\n",
        "  return (m ** e) % n"
      ],
      "metadata": {
        "id": "4ohNZNsiFcA1"
      },
      "execution_count": null,
      "outputs": []
    },
    {
      "cell_type": "code",
      "source": [
        "publ, priv = make_keys(7)"
      ],
      "metadata": {
        "id": "2rg2Sd-XF0R9"
      },
      "execution_count": null,
      "outputs": []
    },
    {
      "cell_type": "code",
      "source": [
        "encrypt(stoi(secret), publ)"
      ],
      "metadata": {
        "colab": {
          "base_uri": "https://localhost:8080/"
        },
        "id": "B-VeMISUF8dA",
        "outputId": "786efc75-0e45-4154-e5bf-7d1c53a581e7"
      },
      "execution_count": null,
      "outputs": [
        {
          "output_type": "execute_result",
          "data": {
            "text/plain": [
              "8094100741223661"
            ]
          },
          "metadata": {},
          "execution_count": 19
        }
      ]
    },
    {
      "cell_type": "code",
      "source": [
        "def exp_fast(x, p, m):\n",
        "\tif p == 0:\n",
        "\t\treturn 1\n",
        "\tif p == 1:\n",
        "\t\treturn x % m\n",
        "\tif (p % 2) == 1:\n",
        "\t\treturn x * exp_fast((x*x)%m, (p-1)//2, m) % m\n",
        "\treturn exp_fast((x*x)%m, p // 2, m) % m"
      ],
      "metadata": {
        "id": "9IfCAr4M-jW7"
      },
      "execution_count": null,
      "outputs": []
    },
    {
      "cell_type": "code",
      "source": [
        "def decrypt(c, key):\n",
        "  [n,e,d] = key\n",
        "  return exp_fast(c,d,n)"
      ],
      "metadata": {
        "id": "WS9m4Bx3Gbf9"
      },
      "execution_count": null,
      "outputs": []
    },
    {
      "cell_type": "code",
      "source": [
        "itos(decrypt(encrypt(stoi(secret), publ), priv))"
      ],
      "metadata": {
        "colab": {
          "base_uri": "https://localhost:8080/",
          "height": 35
        },
        "id": "d-ZjlC76H21l",
        "outputId": "673a2954-8bcc-459c-be12-e56484cbd222"
      },
      "execution_count": null,
      "outputs": [
        {
          "output_type": "execute_result",
          "data": {
            "text/plain": [
              "'blimp'"
            ],
            "application/vnd.google.colaboratory.intrinsic+json": {
              "type": "string"
            }
          },
          "metadata": {},
          "execution_count": 22
        }
      ]
    },
    {
      "cell_type": "code",
      "source": [
        "publ, priv"
      ],
      "metadata": {
        "colab": {
          "base_uri": "https://localhost:8080/"
        },
        "id": "3kv-deR2AGo4",
        "outputId": "1d3b2b7c-f333-4713-e4ea-0963f34bbe63"
      },
      "execution_count": null,
      "outputs": [
        {
          "output_type": "execute_result",
          "data": {
            "text/plain": [
              "([8803821190486081, 3], [8803821190486081, 3, 1467303500436161])"
            ]
          },
          "metadata": {},
          "execution_count": 23
        }
      ]
    },
    {
      "cell_type": "code",
      "source": [
        "from time import time"
      ],
      "metadata": {
        "id": "Ua08ecuOABD4"
      },
      "execution_count": null,
      "outputs": []
    },
    {
      "cell_type": "code",
      "source": [
        "start, _, end = time(), make_keys(7), time() ; print(end-start)"
      ],
      "metadata": {
        "colab": {
          "base_uri": "https://localhost:8080/"
        },
        "id": "EtoT5rIqE2rH",
        "outputId": "a91ecd08-2272-4ced-c586-24ae059929d8"
      },
      "execution_count": null,
      "outputs": [
        {
          "output_type": "stream",
          "name": "stdout",
          "text": [
            "0.0070955753326416016\n"
          ]
        }
      ]
    }
  ]
}